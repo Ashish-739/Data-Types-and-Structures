{
  "nbformat": 4,
  "nbformat_minor": 0,
  "metadata": {
    "colab": {
      "provenance": []
    },
    "kernelspec": {
      "name": "python3",
      "display_name": "Python 3"
    },
    "language_info": {
      "name": "python"
    }
  },
  "cells": [
    {
      "cell_type": "markdown",
      "source": [
        "# Data Types and Structures"
      ],
      "metadata": {
        "id": "yM4JEQ6JCbfN"
      }
    },
    {
      "cell_type": "markdown",
      "source": [
        "1. What are data structures, and why are they important?\n",
        "    -Data structures are ways to organize and store data so that we can use it efficiently. They are important because they help us manage large amounts of data, making it easier to access, modify, and analyze. Think of them as different containers for data, each suited for specific tasks.\n",
        "\n",
        "2. Explain the difference between mutable and immutable data types with examples.\n",
        "    -Mutable data types can be changed after they are created, like lists in Python. For example, you can add or remove items from a list. On the other hand, immutable data types cannot be changed once they are created. A good example is a string; if you want to change a string, you have to create a new one instead.\n",
        "\n",
        "3. What are the main differences between lists and tuples in Python?\n",
        "    -Lists are mutable, meaning you can change their content, while tuples are immutable, so once you create a tuple, you can't modify it. Additionally, lists use square brackets [], while tuples use parentheses (). Lists are great for collections of items that might change, while tuples are better for fixed collections.\n",
        "\n",
        "4. Describe how dictionaries store data.\n",
        "    -Dictionaries store data in key-value pairs. Each key is unique, and it maps to a specific value. This allows for fast lookups since you can access a value directly using its key. For example, in a dictionary like {\"name\": \"Ashish\", \"age\": 25}, \"name\" is the key, and \"Ashish\" is the value.\n",
        "\n",
        "5. Why might you use a set instead of a list in Python?\n",
        "    -You might use a set when you want to store unique items and don’t care about the order. Sets automatically remove duplicates, which can be really handy. For example, if you want to keep track of unique user IDs, a set would be perfect.\n",
        "\n",
        "6. What is a string in Python, and how is it different from a list?\n",
        "    -A string in Python is a sequence of characters, like \"Hello, World!\". The main difference from a list is that strings are immutable, meaning you can't change them after they're created. Lists can hold multiple items of any type and can be modified.\n",
        "\n",
        "7. How do tuples ensure data integrity in Python?\n",
        "    -Tuples ensure data integrity by being immutable. Once we create a tuple, its contents cannot be changed, which means the data remains consistent throughout the program. This is useful when we want to ensure that certain data should not be altered.\n",
        "\n",
        "8. What is a hash table, and how does it relate to dictionaries in Python?\n",
        "    -A hash table is a data structure that uses a hash function to map keys to values, allowing for fast data retrieval. In Python, dictionaries are implemented using hash tables, which is why they can quickly look up values based on their keys.\n",
        "\n",
        "9. Can lists contain different data types in Python?\n",
        "    -Yes, like a mom's bag, lists in Python can contain different data types. You can have a list with integers, strings, and even other lists all in one. For example, my_list = [1, \"hello\", 3.14, [2, 3]] is perfectly valid.\n",
        "\n",
        "10. Explain why strings are immutable in Python.\n",
        "    -Strings are immutable in Python to ensure that they remain constant and to optimize performance. When we create a string, it is stored in memory, and if it were mutable, it could lead to unexpected behavior and bugs. Immutability also allows for better memory management.\n",
        "\n",
        "11. What advantages do dictionaries offer over lists for certain tasks?\n",
        "    -Dictionaries offer faster lookups for values since we can access them directly using keys, while lists require searching through items. This makes dictionaries more efficient for tasks where we need to frequently retrieve data based on a specific identifier.\n",
        "\n",
        "12. Describe a scenario where using a tuple would be preferable over a list.\n",
        "    -Using a tuple would be preferable when you want to store a collection of related values that should not change, like the coordinates of a point (x, y). Since the coordinates should remain constant, a tuple is a better choice than a list.. use case \"attandance\"\n",
        "\n",
        "13. How do sets handle duplicate values in Python?\n",
        "    -Sets automatically remove duplicate values. If you try to add a duplicate item to a set, it simply ignores it. This makes sets a great choice when you want to ensure that all items are unique.\n",
        "\n",
        "14. How does the \"in\" keyword work differently for lists and dictionaries?\n",
        "    -When you use the \"in\" keyword with a list, it checks if a specific value exists in the list. For dictionaries, it checks if a specific key exists. So, value in my_list checks for the value, while key in my_dict checks for the key.\n",
        "\n",
        "15. Can you modify the elements of a tuple? Explain why or why not.\n",
        "    -You cannot modify the elements of a tuple because they are immutable. This means that once a tuple is created , its contents cannot be changed, which helps maintain data integrity and prevents accidental modifications.\n",
        "\n",
        "16. What is a nested dictionary, and give an example of its use case?\n",
        "    -A nested dictionary is a dictionary that contains other dictionaries as its values. This structure is useful for representing complex data. For example, you could have a dictionary representing a school, where each key is a class name, and the value is another dictionary containing student names and their grades:\n",
        "\n"
      ],
      "metadata": {
        "id": "RPPkvLAAMT_1"
      }
    },
    {
      "cell_type": "code",
      "source": [
        "school = {\n",
        "    \"Math\": {\"Ashish\": 25, \"Ashu\": 27},\n",
        "    \"Science\": {\"Ash\": 26, \"Ashi\": 28}\n",
        "}"
      ],
      "metadata": {
        "id": "Wu62RGr-OuPP"
      },
      "execution_count": null,
      "outputs": []
    },
    {
      "cell_type": "markdown",
      "source": [
        "17. Describe the time complexity of accessing elements in a dictionary.\n",
        "    -Accessing elements in a dictionary has an average time complexity of O(1), which means it can retrieve values very quickly using their keys. This efficiency is due to the underlying hash table implementation.\n",
        "\n",
        "18. In what situations are lists preferred over dictionaries?\n",
        "    -Lists are preferred when we need to maintain an ordered collection of items or when we want to perform operations like slicing or iterating through elements. They are also useful when the data does not require key-value pairs.\n",
        "\n",
        "19. Why are dictionaries considered unordered, and how does that affect data retrieval?\n",
        "    -Dictionaries are considered unordered because the items do not have a fixed order. This means that when you retrieve items, you cannot rely on the order in which they were added. However, you can still access values quickly using their keys.\n",
        "\n",
        "20. Explain the difference between a list and a dictionary in terms of data retrieval.\n",
        "    -The main difference in data retrieval is that lists use numerical indices to access elements, while dictionaries use unique keys. This means that with a list, you access items by their position, whereas with a dictionary, you access items by their associated key, allowing for more flexible and meaningful data retrieval.-"
      ],
      "metadata": {
        "id": "MJZHXlEOPa8Z"
      }
    },
    {
      "cell_type": "code",
      "source": [
        "# 1. Create a string with your name and print it\n",
        "name = \"Ashsih Dahiya\"\n",
        "print(\"My name is:\", name)"
      ],
      "metadata": {
        "colab": {
          "base_uri": "https://localhost:8080/"
        },
        "id": "VK3aP7KsRAK0",
        "outputId": "69da7cf0-37e2-4928-b202-43efbded2100"
      },
      "execution_count": null,
      "outputs": [
        {
          "output_type": "stream",
          "name": "stdout",
          "text": [
            "My name is: Ashsih Dahiya\n"
          ]
        }
      ]
    },
    {
      "cell_type": "code",
      "source": [
        "# 2. Find the length of the string \"Hello World\"\n",
        "hello_world = \"Hello World\"\n",
        "len(hello_world)\n"
      ],
      "metadata": {
        "colab": {
          "base_uri": "https://localhost:8080/"
        },
        "id": "7ryxbOnRROtb",
        "outputId": "c604a778-7e0c-4f3d-ccb9-43f54ed5cfca"
      },
      "execution_count": null,
      "outputs": [
        {
          "output_type": "execute_result",
          "data": {
            "text/plain": [
              "11"
            ]
          },
          "metadata": {},
          "execution_count": 5
        }
      ]
    },
    {
      "cell_type": "code",
      "source": [
        "# 3. Slice the first 3 characters from the string \"Python Programming\"\n",
        "python_string = \"Python Programming\"\n",
        "python_string[:3]"
      ],
      "metadata": {
        "colab": {
          "base_uri": "https://localhost:8080/",
          "height": 35
        },
        "id": "WChcGM11RYJ7",
        "outputId": "66162db7-c525-4b9a-9693-042f8c073970"
      },
      "execution_count": null,
      "outputs": [
        {
          "output_type": "execute_result",
          "data": {
            "text/plain": [
              "'Pyt'"
            ],
            "application/vnd.google.colaboratory.intrinsic+json": {
              "type": "string"
            }
          },
          "metadata": {},
          "execution_count": 7
        }
      ]
    },
    {
      "cell_type": "code",
      "source": [
        "# 4. Convert the string \"hello\" to uppercase\n",
        "lowercase_string = \"hello\"\n",
        "lowercase_string.upper()"
      ],
      "metadata": {
        "colab": {
          "base_uri": "https://localhost:8080/",
          "height": 35
        },
        "id": "fii6ZVOoRkt-",
        "outputId": "76e9d658-5ae3-4230-c9dc-5724ce16e7ae"
      },
      "execution_count": null,
      "outputs": [
        {
          "output_type": "execute_result",
          "data": {
            "text/plain": [
              "'HELLO'"
            ],
            "application/vnd.google.colaboratory.intrinsic+json": {
              "type": "string"
            }
          },
          "metadata": {},
          "execution_count": 8
        }
      ]
    },
    {
      "cell_type": "code",
      "source": [
        "# 5. Replace the word \"apple\" with \"orange\" in the string \"I like apple\"\n",
        "a = \"I like apple\"\n",
        "a.replace(\"apple\", \"orange\")"
      ],
      "metadata": {
        "colab": {
          "base_uri": "https://localhost:8080/",
          "height": 35
        },
        "id": "sbl7Q9QkRvSO",
        "outputId": "76260b19-e614-46bd-928d-5bae3d679f0c"
      },
      "execution_count": null,
      "outputs": [
        {
          "output_type": "execute_result",
          "data": {
            "text/plain": [
              "'I like orange'"
            ],
            "application/vnd.google.colaboratory.intrinsic+json": {
              "type": "string"
            }
          },
          "metadata": {},
          "execution_count": 9
        }
      ]
    },
    {
      "cell_type": "code",
      "source": [
        "# 6. Create a list with numbers 1 to 5 and print it\n",
        "number_list = [1, 2, 3, 4, 5]\n",
        "print(number_list)"
      ],
      "metadata": {
        "colab": {
          "base_uri": "https://localhost:8080/"
        },
        "id": "SMai9NyaR5Yk",
        "outputId": "aafa70a9-2fd0-49cc-e5d9-7f18c7cd8c0c"
      },
      "execution_count": null,
      "outputs": [
        {
          "output_type": "stream",
          "name": "stdout",
          "text": [
            "[1, 2, 3, 4, 5]\n"
          ]
        }
      ]
    },
    {
      "cell_type": "code",
      "source": [
        "# 7. Append the number 10 to the list [1, 2, 3, 4]\n",
        "ashish_list = [1, 2, 3, 4]\n",
        "ashish_list.append(10)\n",
        "print(ashish_list)\n"
      ],
      "metadata": {
        "colab": {
          "base_uri": "https://localhost:8080/"
        },
        "id": "8fzcSKoLSBhb",
        "outputId": "ecf2e919-bfa9-4b64-e555-89d31a0addcd"
      },
      "execution_count": null,
      "outputs": [
        {
          "output_type": "stream",
          "name": "stdout",
          "text": [
            "[1, 2, 3, 4, 10]\n"
          ]
        }
      ]
    },
    {
      "cell_type": "code",
      "source": [
        "# 8. Remove the number 3 from the list [1, 2, 3, 4, 5]\n",
        "list = [1, 2, 3, 4, 5]\n",
        "list.remove(3)\n",
        "print(list)"
      ],
      "metadata": {
        "colab": {
          "base_uri": "https://localhost:8080/"
        },
        "id": "VAFiAdUkSNw1",
        "outputId": "3abb314b-2411-4627-993a-fe718eb03e29"
      },
      "execution_count": null,
      "outputs": [
        {
          "output_type": "stream",
          "name": "stdout",
          "text": [
            "[1, 2, 4, 5]\n"
          ]
        }
      ]
    },
    {
      "cell_type": "code",
      "source": [
        "# 9. Access the second element in the list ['a', 'b', 'c', 'd']\n",
        "char_list = ['a', 'b', 'c', 'd']\n",
        "char_list[1]"
      ],
      "metadata": {
        "colab": {
          "base_uri": "https://localhost:8080/",
          "height": 35
        },
        "id": "uy7zJ0flS0iX",
        "outputId": "e5655184-52bd-491e-801d-7fbdfa449cff"
      },
      "execution_count": null,
      "outputs": [
        {
          "output_type": "execute_result",
          "data": {
            "text/plain": [
              "'b'"
            ],
            "application/vnd.google.colaboratory.intrinsic+json": {
              "type": "string"
            }
          },
          "metadata": {},
          "execution_count": 19
        }
      ]
    },
    {
      "cell_type": "code",
      "source": [
        "# 10. Reverse the list [10, 20, 30, 40, 50]\n",
        "a = [10, 20, 30, 40, 50]\n",
        "a.reverse()\n",
        "print(a)"
      ],
      "metadata": {
        "colab": {
          "base_uri": "https://localhost:8080/"
        },
        "id": "wXWhcidFS_ok",
        "outputId": "c43f7815-16fd-4b26-f48e-2f14bc268270"
      },
      "execution_count": null,
      "outputs": [
        {
          "output_type": "stream",
          "name": "stdout",
          "text": [
            "[50, 40, 30, 20, 10]\n"
          ]
        }
      ]
    },
    {
      "cell_type": "code",
      "source": [
        "# 11. Create a tuple with the elements 10, 20, 30 and print it\n",
        "x = (10, 20, 30)\n",
        "type(x)\n"
      ],
      "metadata": {
        "colab": {
          "base_uri": "https://localhost:8080/"
        },
        "id": "C7RZdKKzTIqr",
        "outputId": "3a472d44-ef3c-41db-a6d4-2f6096b88c86"
      },
      "execution_count": null,
      "outputs": [
        {
          "output_type": "execute_result",
          "data": {
            "text/plain": [
              "tuple"
            ]
          },
          "metadata": {},
          "execution_count": 23
        }
      ]
    },
    {
      "cell_type": "code",
      "source": [
        "# 12. Access the first element of the tuple ('apple', 'banana', 'cherry')\n",
        "fruit = ('apple', 'banana', 'cherry')\n",
        "fruit[0]"
      ],
      "metadata": {
        "colab": {
          "base_uri": "https://localhost:8080/",
          "height": 35
        },
        "id": "k48p3TxoTUsG",
        "outputId": "4d7dd3be-e822-452a-b758-5cb36f828494"
      },
      "execution_count": null,
      "outputs": [
        {
          "output_type": "execute_result",
          "data": {
            "text/plain": [
              "'apple'"
            ],
            "application/vnd.google.colaboratory.intrinsic+json": {
              "type": "string"
            }
          },
          "metadata": {},
          "execution_count": 24
        }
      ]
    },
    {
      "cell_type": "code",
      "source": [
        "# 13. Count how many times the number 2 appears in the tuple (1, 2, 3, 2, 4, 2)\n",
        "my_tuple = (1, 2, 3, 2, 4, 2) # Changed the variable name from 'tuple' to 'my_tuple' to avoid conflict with the built-in type.\n",
        "a = my_tuple.count(2)\n",
        "print(a)"
      ],
      "metadata": {
        "colab": {
          "base_uri": "https://localhost:8080/"
        },
        "id": "-uDTsZU4ThJ1",
        "outputId": "4c4fbb85-660f-4422-95b7-827cae2359c7"
      },
      "execution_count": null,
      "outputs": [
        {
          "output_type": "stream",
          "name": "stdout",
          "text": [
            "3\n"
          ]
        }
      ]
    },
    {
      "cell_type": "code",
      "source": [
        "# 14. Find the index of the element \"cat\" in the tuple ('dog', 'cat', 'rabbit')\n",
        "animal = ('dog', 'cat', 'rabbit')\n",
        "animal.index('cat')\n"
      ],
      "metadata": {
        "colab": {
          "base_uri": "https://localhost:8080/"
        },
        "id": "7hKOzNGZTu7J",
        "outputId": "f991d47d-ce4f-4290-83ce-0489c317a241"
      },
      "execution_count": null,
      "outputs": [
        {
          "output_type": "execute_result",
          "data": {
            "text/plain": [
              "1"
            ]
          },
          "metadata": {},
          "execution_count": 39
        }
      ]
    },
    {
      "cell_type": "code",
      "source": [
        "# 15. Check if the element \"banana\" is in the tuple ('apple', 'orange', 'banana')\n",
        "fruit = ('apple', 'orange', 'banana')\n",
        "'banana' in fruit"
      ],
      "metadata": {
        "colab": {
          "base_uri": "https://localhost:8080/"
        },
        "id": "tCn3geDUVKv2",
        "outputId": "c1d1089e-1d68-4e3c-8efc-94f1d1a67277"
      },
      "execution_count": null,
      "outputs": [
        {
          "output_type": "execute_result",
          "data": {
            "text/plain": [
              "True"
            ]
          },
          "metadata": {},
          "execution_count": 42
        }
      ]
    },
    {
      "cell_type": "code",
      "source": [
        "# 16. Create a set with the elements 1, 2, 3, 4, 5 and print it\n",
        "Ashu = {1, 2, 3, 4, 5}\n",
        "print(Ashu)"
      ],
      "metadata": {
        "colab": {
          "base_uri": "https://localhost:8080/"
        },
        "id": "FqvJS4KvVvl6",
        "outputId": "1550be6b-fadf-4d3e-9240-6fd42b62d5ca"
      },
      "execution_count": null,
      "outputs": [
        {
          "output_type": "stream",
          "name": "stdout",
          "text": [
            "{1, 2, 3, 4, 5}\n"
          ]
        }
      ]
    },
    {
      "cell_type": "code",
      "source": [
        "# 17. Add the element 6 to the set {1, 2, 3, 4}\n",
        "Ashu = {1, 2, 3, 4}\n",
        "Ashu.add(6)\n",
        "print(Ashu)"
      ],
      "metadata": {
        "colab": {
          "base_uri": "https://localhost:8080/"
        },
        "id": "T-saWoIzWZgh",
        "outputId": "d1f4b0dd-99d7-441c-f26e-e3fd8877db00"
      },
      "execution_count": null,
      "outputs": [
        {
          "output_type": "stream",
          "name": "stdout",
          "text": [
            "{1, 2, 3, 4, 6}\n"
          ]
        }
      ]
    },
    {
      "cell_type": "code",
      "source": [
        "# 18. Create a tuple with the elements 10, 20, 30 and print it\n",
        "Ashish = (10, 20, 30)\n",
        "print(Ashish)"
      ],
      "metadata": {
        "colab": {
          "base_uri": "https://localhost:8080/"
        },
        "id": "0OaEGvVJWl-1",
        "outputId": "73d7ec3f-5d4d-4a9a-a1ce-b8f5cabb4b9c"
      },
      "execution_count": null,
      "outputs": [
        {
          "output_type": "stream",
          "name": "stdout",
          "text": [
            "(10, 20, 30)\n"
          ]
        }
      ]
    },
    {
      "cell_type": "code",
      "source": [
        "# 19. Access the first element of the tuple ('apple', 'banana', 'cherry')\n",
        "fruit = ('apple', 'banana', 'cherry')\n",
        "fruit[0]"
      ],
      "metadata": {
        "colab": {
          "base_uri": "https://localhost:8080/",
          "height": 35
        },
        "id": "LR5BbmLfWwWN",
        "outputId": "a9b1b4f7-bca6-4d2f-cb55-4d14f39e4c65"
      },
      "execution_count": null,
      "outputs": [
        {
          "output_type": "execute_result",
          "data": {
            "text/plain": [
              "'apple'"
            ],
            "application/vnd.google.colaboratory.intrinsic+json": {
              "type": "string"
            }
          },
          "metadata": {},
          "execution_count": 48
        }
      ]
    },
    {
      "cell_type": "code",
      "source": [
        "# 20. count how many times the number 2 appears in the tuple (1, 2, 3, 2, 4, 2)\n",
        "ash_tuple = (1, 2, 3, 2, 4, 2)\n",
        "a = ash_tuple.count(2)\n",
        "print(a)\n"
      ],
      "metadata": {
        "colab": {
          "base_uri": "https://localhost:8080/"
        },
        "id": "20QknQN5W_ch",
        "outputId": "7dba9db7-9a22-456b-9ac8-da9adfac01ac"
      },
      "execution_count": null,
      "outputs": [
        {
          "output_type": "stream",
          "name": "stdout",
          "text": [
            "3\n"
          ]
        }
      ]
    },
    {
      "cell_type": "code",
      "source": [
        "# 21. find the index of the element \"cat\" in the tuple ('dog', 'cat', 'rabbit').\n",
        "animal = ('dog', 'cat', 'rabbit')\n",
        "animal.index('cat')\n"
      ],
      "metadata": {
        "colab": {
          "base_uri": "https://localhost:8080/"
        },
        "id": "SK0IIp9xXZTD",
        "outputId": "f721d456-5253-4929-cc73-378cb27644a3"
      },
      "execution_count": null,
      "outputs": [
        {
          "output_type": "execute_result",
          "data": {
            "text/plain": [
              "1"
            ]
          },
          "metadata": {},
          "execution_count": 52
        }
      ]
    },
    {
      "cell_type": "code",
      "source": [
        "# 22. check if the element \"banana\" is in the tuple ('apple', 'orange', 'banana').\n",
        "fruit = ('apple', 'orange', 'banana')\n",
        "'banana' in fruit"
      ],
      "metadata": {
        "colab": {
          "base_uri": "https://localhost:8080/"
        },
        "id": "KMKflFyEXrxl",
        "outputId": "edc62142-f346-44dd-f217-af4185faf2a9"
      },
      "execution_count": null,
      "outputs": [
        {
          "output_type": "execute_result",
          "data": {
            "text/plain": [
              "True"
            ]
          },
          "metadata": {},
          "execution_count": 53
        }
      ]
    },
    {
      "cell_type": "code",
      "source": [
        "# 23. create a set with the elements 1, 2, 3, 4, 5 and print it.\n",
        "ashish = {1, 2, 3, 4, 5}\n",
        "print(ashish)"
      ],
      "metadata": {
        "colab": {
          "base_uri": "https://localhost:8080/"
        },
        "id": "JovSgMg8X1hE",
        "outputId": "edb5d853-7fdb-4449-d37a-919ad89c8619"
      },
      "execution_count": null,
      "outputs": [
        {
          "output_type": "stream",
          "name": "stdout",
          "text": [
            "{1, 2, 3, 4, 5}\n"
          ]
        }
      ]
    },
    {
      "cell_type": "code",
      "source": [
        "# 24. add the element 6 to the set {1, 2, 3, 4}\n",
        "ashish = {1, 2, 3, 4}\n",
        "ashish.add(6)\n",
        "print(ashish)"
      ],
      "metadata": {
        "id": "s8-esw3IX7NU",
        "outputId": "4149a064-0be4-4f70-9f37-7168b0563e3a",
        "colab": {
          "base_uri": "https://localhost:8080/"
        }
      },
      "execution_count": null,
      "outputs": [
        {
          "output_type": "stream",
          "name": "stdout",
          "text": [
            "{1, 2, 3, 4, 6}\n"
          ]
        }
      ]
    },
    {
      "cell_type": "code",
      "source": [],
      "metadata": {
        "id": "5EOwsUsRYBd1"
      },
      "execution_count": null,
      "outputs": []
    }
  ]
}